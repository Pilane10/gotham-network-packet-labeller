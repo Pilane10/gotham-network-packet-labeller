{
 "cells": [
  {
   "cell_type": "code",
   "execution_count": 1,
   "id": "e0a219fa",
   "metadata": {},
   "outputs": [],
   "source": [
    "import pandas as pd\n",
    "import numpy as np\n",
    "\n",
    "import glob"
   ]
  },
  {
   "cell_type": "code",
   "execution_count": 2,
   "id": "60a8976b",
   "metadata": {},
   "outputs": [],
   "source": [
    "port_hierarchy_map_iot = [\n",
    "    ([1883, 8883], \"mqttPorts\"),\n",
    "    ([5683, 5684], \"coapPorts\"),\n",
    "    ([8554, 8322, 8000, 8001, 8002, 8003, 1935, 8888], \"rtspPorts\"),\n",
    "    ([80, 280, 443, 591, 593, 777, 488, 1183, 1184, 2069, 2301, 2381, 8008, 8080], \"httpPorts\"),\n",
    "    ([24, 25, 50, 58, 61, 109, 110, 143, 158, 174, 209, 220, 406, 512, 585, 993, 995], \"mailPorts\"),\n",
    "    ([42, 53, 81, 101, 105, 261], \"dnsPorts\"),\n",
    "    ([20, 21, 47, 69, 115, 152, 189, 349, 574, 662, 989, 990], \"ftpPorts\"),\n",
    "    ([22, 23, 59, 87, 89, 107, 211, 221, 222, 513, 614, 759, 992], \"shellPorts\"),\n",
    "    ([512, 514], \"remoteExecPorts\"),\n",
    "    ([13, 56, 113, 316, 353, 370, 749, 750], \"authPorts\"),\n",
    "    ([229, 464, 586, 774], \"passwordPorts\"),\n",
    "    ([114, 119, 532, 563], \"newsPorts\"),\n",
    "    ([194, 258, 531, 994], \"chatPorts\"),\n",
    "    ([35, 92, 170, 515, 631], \"printPorts\"),\n",
    "    ([13, 37, 52, 123, 519, 525], \"timePorts\"),\n",
    "    ([65, 66, 118, 150, 156, 217], \"dbmsPorts\"),\n",
    "    ([546, 547, 647, 847], \"dhcpPorts\"),\n",
    "    ([43, 63], \"whoisPorts\"),\n",
    "    (range(137, 139 + 1), \"netbiosPorts\"),\n",
    "    ([88, 748, 750], \"kerberosPorts\"),\n",
    "    ([111, 121, 369, 530, 567, 593, 602], \"RPCPorts\"),\n",
    "    ([161, 162, 391], \"snmpPorts\"),\n",
    "    (range(0, 1024), \"PRIVILEGED_PORTS\"),\n",
    "    (range(1024, 65536), \"NONPRIVILEGED_PORTS\")\n",
    "]\n",
    "\n",
    "def port_to_categories(port_map, port):\n",
    "    \"\"\"Convert port number to category according to port_map.\"\"\"\n",
    "    for p_range, p_name in port_map:\n",
    "        if port in p_range:\n",
    "            return p_name\n",
    "\n",
    "    return \"\"\n",
    "\n",
    "def _unpack_flags():\n",
    "    df['ip.flags'] = df['ip.flags'].apply(lambda x: int(x, 16))\n",
    "    ip_flags_array = df['ip.flags'].values.astype(np.uint8)\n",
    "    ip_flags_array = np.unpackbits(ip_flags_array.reshape((-1, 1)), axis=1, bitorder='little')[:, :3]\n",
    "    ip_flags_df = pd.DataFrame(ip_flags_array, columns=[f\"ip_flag_{x}\" for x in range(1, ip_flags_array.shape[1]+1)])\n",
    "\n",
    "    df['tcp.flags'] = df['tcp.flags'].apply(lambda x: int(x, 16) if x != -1 else 0)\n",
    "    tcp_flags_array = df['tcp.flags'].values.astype(np.uint8)\n",
    "    tcp_flags_array = np.unpackbits(tcp_flags_array.reshape((-1, 1)), axis=1, bitorder='little')[:, :9]\n",
    "    tcp_flags_df = pd.DataFrame(tcp_flags_array, columns=[f\"tcp_flag_{x}\" for x in range(1, tcp_flags_array.shape[1]+1)])\n",
    "\n",
    "# Custom function to unpack flags\n",
    "def unpack_flags(X):\n",
    "    X = X.copy()\n",
    "    \n",
    "    # Unpack IP flags\n",
    "    ip_flags = X['ip.flags'].apply(lambda x: int(x, 16)).values.astype(np.uint8)\n",
    "    ip_flags = np.unpackbits(ip_flags.reshape((-1, 1)), axis=1, bitorder='little')[:, :3]\n",
    "    \n",
    "    # Unpack TCP flags (handle -1 for missing values)\n",
    "    tcp_flags = X['tcp.flags'].apply(lambda x: int(x, 16) if x != -1 else 0).values.astype(np.uint8)\n",
    "    tcp_flags = np.unpackbits(tcp_flags.reshape((-1, 1)), axis=1, bitorder='little')[:, :9]\n",
    "    \n",
    "    # Combine flags into a single output array\n",
    "    return np.hstack([ip_flags, tcp_flags])\n",
    "\n",
    "global_categorical_values = pd.DataFrame({\n",
    "    \"ip.protocol\": ['TCP', 'UDP', 'ICMP', 'TCP', 'UDP', 'ICMP', 'TCP', 'UDP', 'ICMP', 'TCP', 'UDP', 'ICMP', 'TCP', 'UDP', 'ICMP', 'TCP', 'UDP', 'ICMP', 'TCP', 'UDP', 'ICMP', 'TCP', 'UDP', 'ICMP', 'TCP'],\n",
    "    \"src.port\": ['mqttPorts', 'coapPorts', 'rtspPorts', 'httpPorts', 'mailPorts', 'dnsPorts', 'ftpPorts', 'shellPorts', 'remoteExecPorts', 'authPorts', 'passwordPorts', 'newsPorts', 'chatPorts', 'printPorts', 'timePorts', 'dbmsPorts', 'dhcpPorts', 'whoisPorts', 'netbiosPorts', 'kerberosPorts', 'RPCPorts', 'snmpPorts', 'PRIVILEGED_PORTS', 'NONPRIVILEGED_PORTS', ''],\n",
    "    \"dst.port\": ['mqttPorts', 'coapPorts', 'rtspPorts', 'httpPorts', 'mailPorts', 'dnsPorts', 'ftpPorts', 'shellPorts', 'remoteExecPorts', 'authPorts', 'passwordPorts', 'newsPorts', 'chatPorts', 'printPorts', 'timePorts', 'dbmsPorts', 'dhcpPorts', 'whoisPorts', 'netbiosPorts', 'kerberosPorts', 'RPCPorts', 'snmpPorts', 'PRIVILEGED_PORTS', 'NONPRIVILEGED_PORTS', ''],\n",
    "})"
   ]
  },
  {
   "cell_type": "code",
   "execution_count": 3,
   "id": "cc73f89a",
   "metadata": {},
   "outputs": [],
   "source": [
    "from sklearn.compose import ColumnTransformer\n",
    "from sklearn.preprocessing import OneHotEncoder, FunctionTransformer, StandardScaler, LabelEncoder\n",
    "from sklearn.model_selection import train_test_split\n",
    "import os\n",
    "\n",
    "def preprocess(df):\n",
    "    # Drop len columns\n",
    "    df.drop(columns=['ip.len', 'tcp.len', 'udp.length'], axis=1, inplace=True)\n",
    "\n",
    "    ################\n",
    "    src_ports, dst_ports, protocols = [], [], []\n",
    "    for idx, pkt in df.iterrows():\n",
    "        if ':tcp' in pkt['frame.protocols']:\n",
    "            protocol = 'TCP'\n",
    "            src_port = int(pkt['tcp.srcport'])\n",
    "            dst_port = int(pkt['tcp.dstport'])\n",
    "        elif ':udp' in pkt['frame.protocols']:\n",
    "            protocol = 'UDP'\n",
    "            src_port = int(pkt['udp.srcport'])\n",
    "            dst_port = int(pkt['udp.dstport'])\n",
    "        elif ':icmp' in pkt['frame.protocols']:\n",
    "            protocol = 'ICMP'\n",
    "            src_port = np.nan\n",
    "            dst_port = np.nan\n",
    "        \n",
    "        protocols.append(protocol)\n",
    "        src_ports.append(src_port)\n",
    "        dst_ports.append(dst_port)\n",
    "\n",
    "    df['ip.protocol'] = protocols\n",
    "    df['src.port'] = src_ports\n",
    "    df['dst.port'] = dst_ports\n",
    "\n",
    "    df.drop(columns=['ip.proto', 'tcp.srcport', 'tcp.dstport', 'udp.srcport', 'udp.dstport'], axis=1, inplace=True)\n",
    "\n",
    "    ################ \n",
    "    df['frame.time'] = df['frame.time'].str.replace('  ', ' ')\n",
    "    df['frame.time'] = df['frame.time'].str.replace(' BST', '')\n",
    "    df['frame.time'] = pd.to_datetime(df['frame.time'], format=\"%b %d, %Y %H:%M:%S.%f000\")\n",
    "    df['timestamp'] = df['frame.time'].values.astype(np.int64) // 10 ** 9\n",
    "\n",
    "    ################ \n",
    "    df['src.port'] = df['src.port'].apply(lambda port: port_to_categories(port_hierarchy_map_iot, port))\n",
    "    df['dst.port'] = df['dst.port'].apply(lambda port: port_to_categories(port_hierarchy_map_iot, port))\n",
    "\n",
    "    ################\n",
    "    # Convert the checksum to an integer, replacing missing values or invalid entries with a default.\n",
    "    df['ip.checksum'] = df['ip.checksum'].apply(lambda x: int(str(x), 16) if pd.notna(x) else 0)\n",
    "    df['tcp.checksum'] = df['tcp.checksum'].apply(lambda x: int(str(x), 16) if pd.notna(x) else 0)\n",
    "    df['tcp.options'] = df['tcp.options'].apply(lambda x: int(str(x), 16) if pd.notna(x) else 0).astype(float)\n",
    "\n",
    "    ################\n",
    "    num_cols = df.select_dtypes(include=[\"number\"]).columns\n",
    "    df[num_cols] = df[num_cols].fillna(-1)\n",
    "\n",
    "    cat_cols = df.select_dtypes(exclude=[\"number\"]).columns\n",
    "    df[cat_cols] = df[cat_cols].fillna(-1)\n",
    "\n",
    "    ################\n",
    "    selected_columns = ['timestamp', 'frame.len', 'ip.protocol', 'src.port', 'dst.port', 'ip.flags', 'ip.ttl', 'ip.checksum',\n",
    "        'tcp.flags', 'tcp.window_size_value', 'tcp.window_size_scalefactor', 'tcp.checksum', 'tcp.options',\n",
    "        'tcp.pdu.size', 'label']\n",
    "    \n",
    "    df['label'] = df['label'].str.replace('^C&C Communication', 'Mirai C&C Communication', regex=True)\n",
    "    df = df[selected_columns]\n",
    "    df = df[df['label'] != 'Unknown']\n",
    "\n",
    "    return df"
   ]
  },
  {
   "cell_type": "code",
   "execution_count": 7,
   "id": "edd8253e",
   "metadata": {},
   "outputs": [
    {
     "data": {
      "text/plain": [
       "['../data/ready/iotsim-building-monitor-1.csv']"
      ]
     },
     "execution_count": 7,
     "metadata": {},
     "output_type": "execute_result"
    }
   ],
   "source": [
    "# filenames = glob.glob(\"../data/ready/*.csv\")\n",
    "# filenames.index('../data/ready/iotsim-building-monitor-1.csv')\n",
    "# filenames[19:20]"
   ]
  },
  {
   "cell_type": "code",
   "execution_count": 5,
   "id": "f8c05046",
   "metadata": {},
   "outputs": [
    {
     "name": "stdout",
     "output_type": "stream",
     "text": [
      "../data/ready/iotsim-cooler-motor-15.csv\n",
      "done\n"
     ]
    },
    {
     "name": "stderr",
     "output_type": "stream",
     "text": [
      "/Users/c22105357/Documents/gotham-network-packet-labeller/venv/lib/python3.11/site-packages/sklearn/preprocessing/_label.py:97: DataConversionWarning: A column-vector y was passed when a 1d array was expected. Please change the shape of y to (n_samples, ), for example using ravel().\n",
      "  y = column_or_1d(y, warn=True)\n"
     ]
    },
    {
     "name": "stdout",
     "output_type": "stream",
     "text": [
      "../data/ready/iotsim-cooler-motor-14.csv\n",
      "done\n"
     ]
    },
    {
     "name": "stderr",
     "output_type": "stream",
     "text": [
      "/Users/c22105357/Documents/gotham-network-packet-labeller/venv/lib/python3.11/site-packages/sklearn/preprocessing/_label.py:97: DataConversionWarning: A column-vector y was passed when a 1d array was expected. Please change the shape of y to (n_samples, ), for example using ravel().\n",
      "  y = column_or_1d(y, warn=True)\n"
     ]
    },
    {
     "name": "stdout",
     "output_type": "stream",
     "text": [
      "../data/ready/iotsim-cooler-motor-13.csv\n",
      "done\n"
     ]
    },
    {
     "name": "stderr",
     "output_type": "stream",
     "text": [
      "/Users/c22105357/Documents/gotham-network-packet-labeller/venv/lib/python3.11/site-packages/sklearn/preprocessing/_label.py:97: DataConversionWarning: A column-vector y was passed when a 1d array was expected. Please change the shape of y to (n_samples, ), for example using ravel().\n",
      "  y = column_or_1d(y, warn=True)\n"
     ]
    },
    {
     "name": "stdout",
     "output_type": "stream",
     "text": [
      "../data/ready/iotsim-cooler-motor-8.csv\n",
      "done\n"
     ]
    },
    {
     "name": "stderr",
     "output_type": "stream",
     "text": [
      "/Users/c22105357/Documents/gotham-network-packet-labeller/venv/lib/python3.11/site-packages/sklearn/preprocessing/_label.py:97: DataConversionWarning: A column-vector y was passed when a 1d array was expected. Please change the shape of y to (n_samples, ), for example using ravel().\n",
      "  y = column_or_1d(y, warn=True)\n"
     ]
    },
    {
     "name": "stdout",
     "output_type": "stream",
     "text": [
      "../data/ready/iotsim-cooler-motor-9.csv\n",
      "done\n"
     ]
    },
    {
     "name": "stderr",
     "output_type": "stream",
     "text": [
      "/Users/c22105357/Documents/gotham-network-packet-labeller/venv/lib/python3.11/site-packages/sklearn/preprocessing/_label.py:97: DataConversionWarning: A column-vector y was passed when a 1d array was expected. Please change the shape of y to (n_samples, ), for example using ravel().\n",
      "  y = column_or_1d(y, warn=True)\n"
     ]
    },
    {
     "name": "stdout",
     "output_type": "stream",
     "text": [
      "../data/ready/iotsim-cooler-motor-12.csv\n",
      "done\n"
     ]
    },
    {
     "name": "stderr",
     "output_type": "stream",
     "text": [
      "/Users/c22105357/Documents/gotham-network-packet-labeller/venv/lib/python3.11/site-packages/sklearn/preprocessing/_label.py:97: DataConversionWarning: A column-vector y was passed when a 1d array was expected. Please change the shape of y to (n_samples, ), for example using ravel().\n",
      "  y = column_or_1d(y, warn=True)\n"
     ]
    },
    {
     "name": "stdout",
     "output_type": "stream",
     "text": [
      "../data/ready/iotsim-cooler-motor-10.csv\n",
      "done\n"
     ]
    },
    {
     "name": "stderr",
     "output_type": "stream",
     "text": [
      "/Users/c22105357/Documents/gotham-network-packet-labeller/venv/lib/python3.11/site-packages/sklearn/preprocessing/_label.py:97: DataConversionWarning: A column-vector y was passed when a 1d array was expected. Please change the shape of y to (n_samples, ), for example using ravel().\n",
      "  y = column_or_1d(y, warn=True)\n"
     ]
    },
    {
     "name": "stdout",
     "output_type": "stream",
     "text": [
      "../data/ready/iotsim-hydraulic-system-8.csv\n",
      "done\n",
      "../data/ready/iotsim-hydraulic-system-9.csv\n"
     ]
    },
    {
     "name": "stderr",
     "output_type": "stream",
     "text": [
      "/Users/c22105357/Documents/gotham-network-packet-labeller/venv/lib/python3.11/site-packages/sklearn/preprocessing/_label.py:97: DataConversionWarning: A column-vector y was passed when a 1d array was expected. Please change the shape of y to (n_samples, ), for example using ravel().\n",
      "  y = column_or_1d(y, warn=True)\n"
     ]
    },
    {
     "name": "stdout",
     "output_type": "stream",
     "text": [
      "done\n",
      "../data/ready/iotsim-cooler-motor-11.csv\n"
     ]
    },
    {
     "name": "stderr",
     "output_type": "stream",
     "text": [
      "/Users/c22105357/Documents/gotham-network-packet-labeller/venv/lib/python3.11/site-packages/sklearn/preprocessing/_label.py:97: DataConversionWarning: A column-vector y was passed when a 1d array was expected. Please change the shape of y to (n_samples, ), for example using ravel().\n",
      "  y = column_or_1d(y, warn=True)\n"
     ]
    },
    {
     "name": "stdout",
     "output_type": "stream",
     "text": [
      "done\n"
     ]
    },
    {
     "name": "stderr",
     "output_type": "stream",
     "text": [
      "/Users/c22105357/Documents/gotham-network-packet-labeller/venv/lib/python3.11/site-packages/sklearn/preprocessing/_label.py:97: DataConversionWarning: A column-vector y was passed when a 1d array was expected. Please change the shape of y to (n_samples, ), for example using ravel().\n",
      "  y = column_or_1d(y, warn=True)\n"
     ]
    },
    {
     "name": "stdout",
     "output_type": "stream",
     "text": [
      "../data/ready/iotsim-hydraulic-system-12.csv\n",
      "done\n",
      "../data/ready/iotsim-predictive-maintenance-8.csv\n"
     ]
    },
    {
     "name": "stderr",
     "output_type": "stream",
     "text": [
      "/Users/c22105357/Documents/gotham-network-packet-labeller/venv/lib/python3.11/site-packages/sklearn/preprocessing/_label.py:97: DataConversionWarning: A column-vector y was passed when a 1d array was expected. Please change the shape of y to (n_samples, ), for example using ravel().\n",
      "  y = column_or_1d(y, warn=True)\n"
     ]
    },
    {
     "name": "stdout",
     "output_type": "stream",
     "text": [
      "done\n"
     ]
    },
    {
     "name": "stderr",
     "output_type": "stream",
     "text": [
      "/Users/c22105357/Documents/gotham-network-packet-labeller/venv/lib/python3.11/site-packages/sklearn/preprocessing/_label.py:97: DataConversionWarning: A column-vector y was passed when a 1d array was expected. Please change the shape of y to (n_samples, ), for example using ravel().\n",
      "  y = column_or_1d(y, warn=True)\n"
     ]
    },
    {
     "name": "stdout",
     "output_type": "stream",
     "text": [
      "../data/ready/iotsim-ip-camera-museum-1.csv\n",
      "done\n"
     ]
    },
    {
     "name": "stderr",
     "output_type": "stream",
     "text": [
      "/Users/c22105357/Documents/gotham-network-packet-labeller/venv/lib/python3.11/site-packages/sklearn/preprocessing/_label.py:97: DataConversionWarning: A column-vector y was passed when a 1d array was expected. Please change the shape of y to (n_samples, ), for example using ravel().\n",
      "  y = column_or_1d(y, warn=True)\n"
     ]
    },
    {
     "name": "stdout",
     "output_type": "stream",
     "text": [
      "../data/ready/iotsim-building-monitor-3.csv\n",
      "done\n",
      "../data/ready/iotsim-building-monitor-2.csv\n"
     ]
    },
    {
     "name": "stderr",
     "output_type": "stream",
     "text": [
      "/Users/c22105357/Documents/gotham-network-packet-labeller/venv/lib/python3.11/site-packages/sklearn/preprocessing/_label.py:97: DataConversionWarning: A column-vector y was passed when a 1d array was expected. Please change the shape of y to (n_samples, ), for example using ravel().\n",
      "  y = column_or_1d(y, warn=True)\n"
     ]
    },
    {
     "name": "stdout",
     "output_type": "stream",
     "text": [
      "done\n",
      "../data/ready/iotsim-predictive-maintenance-9.csv\n"
     ]
    },
    {
     "name": "stderr",
     "output_type": "stream",
     "text": [
      "/Users/c22105357/Documents/gotham-network-packet-labeller/venv/lib/python3.11/site-packages/sklearn/preprocessing/_label.py:97: DataConversionWarning: A column-vector y was passed when a 1d array was expected. Please change the shape of y to (n_samples, ), for example using ravel().\n",
      "  y = column_or_1d(y, warn=True)\n"
     ]
    },
    {
     "name": "stdout",
     "output_type": "stream",
     "text": [
      "done\n"
     ]
    },
    {
     "name": "stderr",
     "output_type": "stream",
     "text": [
      "/Users/c22105357/Documents/gotham-network-packet-labeller/venv/lib/python3.11/site-packages/sklearn/preprocessing/_label.py:97: DataConversionWarning: A column-vector y was passed when a 1d array was expected. Please change the shape of y to (n_samples, ), for example using ravel().\n",
      "  y = column_or_1d(y, warn=True)\n"
     ]
    },
    {
     "name": "stdout",
     "output_type": "stream",
     "text": [
      "../data/ready/iotsim-hydraulic-system-13.csv\n",
      "done\n",
      "../data/ready/iotsim-hydraulic-system-11.csv\n"
     ]
    },
    {
     "name": "stderr",
     "output_type": "stream",
     "text": [
      "/Users/c22105357/Documents/gotham-network-packet-labeller/venv/lib/python3.11/site-packages/sklearn/preprocessing/_label.py:97: DataConversionWarning: A column-vector y was passed when a 1d array was expected. Please change the shape of y to (n_samples, ), for example using ravel().\n",
      "  y = column_or_1d(y, warn=True)\n"
     ]
    },
    {
     "name": "stdout",
     "output_type": "stream",
     "text": [
      "done\n",
      "../data/ready/iotsim-ip-camera-museum-2.csv\n"
     ]
    },
    {
     "name": "stderr",
     "output_type": "stream",
     "text": [
      "/Users/c22105357/Documents/gotham-network-packet-labeller/venv/lib/python3.11/site-packages/sklearn/preprocessing/_label.py:97: DataConversionWarning: A column-vector y was passed when a 1d array was expected. Please change the shape of y to (n_samples, ), for example using ravel().\n",
      "  y = column_or_1d(y, warn=True)\n"
     ]
    },
    {
     "name": "stdout",
     "output_type": "stream",
     "text": [
      "done\n"
     ]
    },
    {
     "name": "stderr",
     "output_type": "stream",
     "text": [
      "/Users/c22105357/Documents/gotham-network-packet-labeller/venv/lib/python3.11/site-packages/sklearn/preprocessing/_label.py:97: DataConversionWarning: A column-vector y was passed when a 1d array was expected. Please change the shape of y to (n_samples, ), for example using ravel().\n",
      "  y = column_or_1d(y, warn=True)\n"
     ]
    },
    {
     "name": "stdout",
     "output_type": "stream",
     "text": [
      "../data/ready/iotsim-building-monitor-1.csv\n",
      "done\n"
     ]
    },
    {
     "name": "stderr",
     "output_type": "stream",
     "text": [
      "/Users/c22105357/Documents/gotham-network-packet-labeller/venv/lib/python3.11/site-packages/sklearn/preprocessing/_label.py:97: DataConversionWarning: A column-vector y was passed when a 1d array was expected. Please change the shape of y to (n_samples, ), for example using ravel().\n",
      "  y = column_or_1d(y, warn=True)\n"
     ]
    },
    {
     "name": "stdout",
     "output_type": "stream",
     "text": [
      "../data/ready/iotsim-hydraulic-system-10.csv\n",
      "done\n",
      "../data/ready/iotsim-combined-cycle-9.csv\n"
     ]
    },
    {
     "name": "stderr",
     "output_type": "stream",
     "text": [
      "/Users/c22105357/Documents/gotham-network-packet-labeller/venv/lib/python3.11/site-packages/sklearn/preprocessing/_label.py:97: DataConversionWarning: A column-vector y was passed when a 1d array was expected. Please change the shape of y to (n_samples, ), for example using ravel().\n",
      "  y = column_or_1d(y, warn=True)\n"
     ]
    },
    {
     "name": "stdout",
     "output_type": "stream",
     "text": [
      "done\n",
      "../data/ready/iotsim-hydraulic-system-14.csv\n"
     ]
    },
    {
     "name": "stderr",
     "output_type": "stream",
     "text": [
      "/Users/c22105357/Documents/gotham-network-packet-labeller/venv/lib/python3.11/site-packages/sklearn/preprocessing/_label.py:97: DataConversionWarning: A column-vector y was passed when a 1d array was expected. Please change the shape of y to (n_samples, ), for example using ravel().\n",
      "  y = column_or_1d(y, warn=True)\n"
     ]
    },
    {
     "name": "stdout",
     "output_type": "stream",
     "text": [
      "done\n",
      "../data/ready/iotsim-ip-camera-street-2.csv\n"
     ]
    },
    {
     "name": "stderr",
     "output_type": "stream",
     "text": [
      "/Users/c22105357/Documents/gotham-network-packet-labeller/venv/lib/python3.11/site-packages/sklearn/preprocessing/_label.py:97: DataConversionWarning: A column-vector y was passed when a 1d array was expected. Please change the shape of y to (n_samples, ), for example using ravel().\n",
      "  y = column_or_1d(y, warn=True)\n"
     ]
    },
    {
     "name": "stdout",
     "output_type": "stream",
     "text": [
      "done\n"
     ]
    },
    {
     "name": "stderr",
     "output_type": "stream",
     "text": [
      "/Users/c22105357/Documents/gotham-network-packet-labeller/venv/lib/python3.11/site-packages/sklearn/preprocessing/_label.py:97: DataConversionWarning: A column-vector y was passed when a 1d array was expected. Please change the shape of y to (n_samples, ), for example using ravel().\n",
      "  y = column_or_1d(y, warn=True)\n"
     ]
    },
    {
     "name": "stdout",
     "output_type": "stream",
     "text": [
      "../data/ready/iotsim-building-monitor-5.csv\n",
      "done\n",
      "../data/ready/iotsim-combined-cycle-10.csv\n"
     ]
    },
    {
     "name": "stderr",
     "output_type": "stream",
     "text": [
      "/Users/c22105357/Documents/gotham-network-packet-labeller/venv/lib/python3.11/site-packages/sklearn/preprocessing/_label.py:97: DataConversionWarning: A column-vector y was passed when a 1d array was expected. Please change the shape of y to (n_samples, ), for example using ravel().\n",
      "  y = column_or_1d(y, warn=True)\n"
     ]
    },
    {
     "name": "stdout",
     "output_type": "stream",
     "text": [
      "done\n",
      "../data/ready/iotsim-building-monitor-4.csv\n"
     ]
    },
    {
     "name": "stderr",
     "output_type": "stream",
     "text": [
      "/Users/c22105357/Documents/gotham-network-packet-labeller/venv/lib/python3.11/site-packages/sklearn/preprocessing/_label.py:97: DataConversionWarning: A column-vector y was passed when a 1d array was expected. Please change the shape of y to (n_samples, ), for example using ravel().\n",
      "  y = column_or_1d(y, warn=True)\n"
     ]
    },
    {
     "name": "stdout",
     "output_type": "stream",
     "text": [
      "done\n",
      "../data/ready/iotsim-hydraulic-system-15.csv\n"
     ]
    },
    {
     "name": "stderr",
     "output_type": "stream",
     "text": [
      "/Users/c22105357/Documents/gotham-network-packet-labeller/venv/lib/python3.11/site-packages/sklearn/preprocessing/_label.py:97: DataConversionWarning: A column-vector y was passed when a 1d array was expected. Please change the shape of y to (n_samples, ), for example using ravel().\n",
      "  y = column_or_1d(y, warn=True)\n"
     ]
    },
    {
     "name": "stdout",
     "output_type": "stream",
     "text": [
      "done\n",
      "../data/ready/iotsim-combined-cycle-8.csv\n"
     ]
    },
    {
     "name": "stderr",
     "output_type": "stream",
     "text": [
      "/Users/c22105357/Documents/gotham-network-packet-labeller/venv/lib/python3.11/site-packages/sklearn/preprocessing/_label.py:97: DataConversionWarning: A column-vector y was passed when a 1d array was expected. Please change the shape of y to (n_samples, ), for example using ravel().\n",
      "  y = column_or_1d(y, warn=True)\n"
     ]
    },
    {
     "name": "stdout",
     "output_type": "stream",
     "text": [
      "done\n",
      "../data/ready/iotsim-ip-camera-street-1.csv\n"
     ]
    },
    {
     "name": "stderr",
     "output_type": "stream",
     "text": [
      "/Users/c22105357/Documents/gotham-network-packet-labeller/venv/lib/python3.11/site-packages/sklearn/preprocessing/_label.py:97: DataConversionWarning: A column-vector y was passed when a 1d array was expected. Please change the shape of y to (n_samples, ), for example using ravel().\n",
      "  y = column_or_1d(y, warn=True)\n"
     ]
    },
    {
     "name": "stdout",
     "output_type": "stream",
     "text": [
      "done\n"
     ]
    },
    {
     "name": "stderr",
     "output_type": "stream",
     "text": [
      "/Users/c22105357/Documents/gotham-network-packet-labeller/venv/lib/python3.11/site-packages/sklearn/preprocessing/_label.py:97: DataConversionWarning: A column-vector y was passed when a 1d array was expected. Please change the shape of y to (n_samples, ), for example using ravel().\n",
      "  y = column_or_1d(y, warn=True)\n"
     ]
    },
    {
     "name": "stdout",
     "output_type": "stream",
     "text": [
      "../data/ready/iotsim-combined-cycle-6.csv\n",
      "done\n"
     ]
    },
    {
     "name": "stderr",
     "output_type": "stream",
     "text": [
      "/Users/c22105357/Documents/gotham-network-packet-labeller/venv/lib/python3.11/site-packages/sklearn/preprocessing/_label.py:97: DataConversionWarning: A column-vector y was passed when a 1d array was expected. Please change the shape of y to (n_samples, ), for example using ravel().\n",
      "  y = column_or_1d(y, warn=True)\n"
     ]
    },
    {
     "name": "stdout",
     "output_type": "stream",
     "text": [
      "../data/ready/iotsim-stream-consumer-1.csv\n",
      "done\n"
     ]
    },
    {
     "name": "stderr",
     "output_type": "stream",
     "text": [
      "/Users/c22105357/Documents/gotham-network-packet-labeller/venv/lib/python3.11/site-packages/sklearn/preprocessing/_label.py:97: DataConversionWarning: A column-vector y was passed when a 1d array was expected. Please change the shape of y to (n_samples, ), for example using ravel().\n",
      "  y = column_or_1d(y, warn=True)\n"
     ]
    },
    {
     "name": "stdout",
     "output_type": "stream",
     "text": [
      "../data/ready/iotsim-predictive-maintenance-1.csv\n",
      "done\n"
     ]
    },
    {
     "name": "stderr",
     "output_type": "stream",
     "text": [
      "/Users/c22105357/Documents/gotham-network-packet-labeller/venv/lib/python3.11/site-packages/sklearn/preprocessing/_label.py:97: DataConversionWarning: A column-vector y was passed when a 1d array was expected. Please change the shape of y to (n_samples, ), for example using ravel().\n",
      "  y = column_or_1d(y, warn=True)\n"
     ]
    },
    {
     "name": "stdout",
     "output_type": "stream",
     "text": [
      "../data/ready/iotsim-combined-cycle-7.csv\n",
      "done\n"
     ]
    },
    {
     "name": "stderr",
     "output_type": "stream",
     "text": [
      "/Users/c22105357/Documents/gotham-network-packet-labeller/venv/lib/python3.11/site-packages/sklearn/preprocessing/_label.py:97: DataConversionWarning: A column-vector y was passed when a 1d array was expected. Please change the shape of y to (n_samples, ), for example using ravel().\n",
      "  y = column_or_1d(y, warn=True)\n"
     ]
    },
    {
     "name": "stdout",
     "output_type": "stream",
     "text": [
      "../data/ready/iotsim-combined-cycle-5.csv\n",
      "done\n"
     ]
    },
    {
     "name": "stderr",
     "output_type": "stream",
     "text": [
      "/Users/c22105357/Documents/gotham-network-packet-labeller/venv/lib/python3.11/site-packages/sklearn/preprocessing/_label.py:97: DataConversionWarning: A column-vector y was passed when a 1d array was expected. Please change the shape of y to (n_samples, ), for example using ravel().\n",
      "  y = column_or_1d(y, warn=True)\n"
     ]
    },
    {
     "name": "stdout",
     "output_type": "stream",
     "text": [
      "../data/ready/iotsim-stream-consumer-2.csv\n",
      "done\n"
     ]
    },
    {
     "name": "stderr",
     "output_type": "stream",
     "text": [
      "/Users/c22105357/Documents/gotham-network-packet-labeller/venv/lib/python3.11/site-packages/sklearn/preprocessing/_label.py:97: DataConversionWarning: A column-vector y was passed when a 1d array was expected. Please change the shape of y to (n_samples, ), for example using ravel().\n",
      "  y = column_or_1d(y, warn=True)\n"
     ]
    },
    {
     "name": "stdout",
     "output_type": "stream",
     "text": [
      "../data/ready/iotsim-domotic-monitor-5.csv\n",
      "done\n",
      "../data/ready/iotsim-predictive-maintenance-2.csv\n"
     ]
    },
    {
     "name": "stderr",
     "output_type": "stream",
     "text": [
      "/Users/c22105357/Documents/gotham-network-packet-labeller/venv/lib/python3.11/site-packages/sklearn/preprocessing/_label.py:97: DataConversionWarning: A column-vector y was passed when a 1d array was expected. Please change the shape of y to (n_samples, ), for example using ravel().\n",
      "  y = column_or_1d(y, warn=True)\n"
     ]
    },
    {
     "name": "stdout",
     "output_type": "stream",
     "text": [
      "done\n"
     ]
    },
    {
     "name": "stderr",
     "output_type": "stream",
     "text": [
      "/Users/c22105357/Documents/gotham-network-packet-labeller/venv/lib/python3.11/site-packages/sklearn/preprocessing/_label.py:97: DataConversionWarning: A column-vector y was passed when a 1d array was expected. Please change the shape of y to (n_samples, ), for example using ravel().\n",
      "  y = column_or_1d(y, warn=True)\n"
     ]
    },
    {
     "name": "stdout",
     "output_type": "stream",
     "text": [
      "../data/ready/iotsim-predictive-maintenance-3.csv\n",
      "done\n"
     ]
    },
    {
     "name": "stderr",
     "output_type": "stream",
     "text": [
      "/Users/c22105357/Documents/gotham-network-packet-labeller/venv/lib/python3.11/site-packages/sklearn/preprocessing/_label.py:97: DataConversionWarning: A column-vector y was passed when a 1d array was expected. Please change the shape of y to (n_samples, ), for example using ravel().\n",
      "  y = column_or_1d(y, warn=True)\n"
     ]
    },
    {
     "name": "stdout",
     "output_type": "stream",
     "text": [
      "../data/ready/iotsim-domotic-monitor-4.csv\n",
      "done\n",
      "../data/ready/iotsim-combined-cycle-4.csv\n"
     ]
    },
    {
     "name": "stderr",
     "output_type": "stream",
     "text": [
      "/Users/c22105357/Documents/gotham-network-packet-labeller/venv/lib/python3.11/site-packages/sklearn/preprocessing/_label.py:97: DataConversionWarning: A column-vector y was passed when a 1d array was expected. Please change the shape of y to (n_samples, ), for example using ravel().\n",
      "  y = column_or_1d(y, warn=True)\n"
     ]
    },
    {
     "name": "stdout",
     "output_type": "stream",
     "text": [
      "done\n",
      "../data/ready/iotsim-predictive-maintenance-7.csv\n"
     ]
    },
    {
     "name": "stderr",
     "output_type": "stream",
     "text": [
      "/Users/c22105357/Documents/gotham-network-packet-labeller/venv/lib/python3.11/site-packages/sklearn/preprocessing/_label.py:97: DataConversionWarning: A column-vector y was passed when a 1d array was expected. Please change the shape of y to (n_samples, ), for example using ravel().\n",
      "  y = column_or_1d(y, warn=True)\n"
     ]
    },
    {
     "name": "stdout",
     "output_type": "stream",
     "text": [
      "done\n"
     ]
    },
    {
     "name": "stderr",
     "output_type": "stream",
     "text": [
      "/Users/c22105357/Documents/gotham-network-packet-labeller/venv/lib/python3.11/site-packages/sklearn/preprocessing/_label.py:97: DataConversionWarning: A column-vector y was passed when a 1d array was expected. Please change the shape of y to (n_samples, ), for example using ravel().\n",
      "  y = column_or_1d(y, warn=True)\n"
     ]
    },
    {
     "name": "stdout",
     "output_type": "stream",
     "text": [
      "../data/ready/iotsim-domotic-monitor-1.csv\n",
      "done\n"
     ]
    },
    {
     "name": "stderr",
     "output_type": "stream",
     "text": [
      "/Users/c22105357/Documents/gotham-network-packet-labeller/venv/lib/python3.11/site-packages/sklearn/preprocessing/_label.py:97: DataConversionWarning: A column-vector y was passed when a 1d array was expected. Please change the shape of y to (n_samples, ), for example using ravel().\n",
      "  y = column_or_1d(y, warn=True)\n"
     ]
    },
    {
     "name": "stdout",
     "output_type": "stream",
     "text": [
      "../data/ready/iotsim-predictive-maintenance-6.csv\n",
      "done\n"
     ]
    },
    {
     "name": "stderr",
     "output_type": "stream",
     "text": [
      "/Users/c22105357/Documents/gotham-network-packet-labeller/venv/lib/python3.11/site-packages/sklearn/preprocessing/_label.py:97: DataConversionWarning: A column-vector y was passed when a 1d array was expected. Please change the shape of y to (n_samples, ), for example using ravel().\n",
      "  y = column_or_1d(y, warn=True)\n"
     ]
    },
    {
     "name": "stdout",
     "output_type": "stream",
     "text": [
      "../data/ready/iotsim-combined-cycle-1.csv\n",
      "done\n"
     ]
    },
    {
     "name": "stderr",
     "output_type": "stream",
     "text": [
      "/Users/c22105357/Documents/gotham-network-packet-labeller/venv/lib/python3.11/site-packages/sklearn/preprocessing/_label.py:97: DataConversionWarning: A column-vector y was passed when a 1d array was expected. Please change the shape of y to (n_samples, ), for example using ravel().\n",
      "  y = column_or_1d(y, warn=True)\n"
     ]
    },
    {
     "name": "stdout",
     "output_type": "stream",
     "text": [
      "../data/ready/iotsim-combined-cycle-3.csv\n",
      "done\n"
     ]
    },
    {
     "name": "stderr",
     "output_type": "stream",
     "text": [
      "/Users/c22105357/Documents/gotham-network-packet-labeller/venv/lib/python3.11/site-packages/sklearn/preprocessing/_label.py:97: DataConversionWarning: A column-vector y was passed when a 1d array was expected. Please change the shape of y to (n_samples, ), for example using ravel().\n",
      "  y = column_or_1d(y, warn=True)\n"
     ]
    },
    {
     "name": "stdout",
     "output_type": "stream",
     "text": [
      "../data/ready/iotsim-air-quality-1.csv\n",
      "done\n"
     ]
    },
    {
     "name": "stderr",
     "output_type": "stream",
     "text": [
      "/Users/c22105357/Documents/gotham-network-packet-labeller/venv/lib/python3.11/site-packages/sklearn/preprocessing/_label.py:97: DataConversionWarning: A column-vector y was passed when a 1d array was expected. Please change the shape of y to (n_samples, ), for example using ravel().\n",
      "  y = column_or_1d(y, warn=True)\n"
     ]
    },
    {
     "name": "stdout",
     "output_type": "stream",
     "text": [
      "../data/ready/iotsim-predictive-maintenance-4.csv\n",
      "done\n"
     ]
    },
    {
     "name": "stderr",
     "output_type": "stream",
     "text": [
      "/Users/c22105357/Documents/gotham-network-packet-labeller/venv/lib/python3.11/site-packages/sklearn/preprocessing/_label.py:97: DataConversionWarning: A column-vector y was passed when a 1d array was expected. Please change the shape of y to (n_samples, ), for example using ravel().\n",
      "  y = column_or_1d(y, warn=True)\n"
     ]
    },
    {
     "name": "stdout",
     "output_type": "stream",
     "text": [
      "../data/ready/iotsim-domotic-monitor-3.csv\n",
      "done\n",
      "../data/ready/iotsim-domotic-monitor-2.csv\n"
     ]
    },
    {
     "name": "stderr",
     "output_type": "stream",
     "text": [
      "/Users/c22105357/Documents/gotham-network-packet-labeller/venv/lib/python3.11/site-packages/sklearn/preprocessing/_label.py:97: DataConversionWarning: A column-vector y was passed when a 1d array was expected. Please change the shape of y to (n_samples, ), for example using ravel().\n",
      "  y = column_or_1d(y, warn=True)\n"
     ]
    },
    {
     "name": "stdout",
     "output_type": "stream",
     "text": [
      "done\n",
      "../data/ready/iotsim-predictive-maintenance-5.csv\n"
     ]
    },
    {
     "name": "stderr",
     "output_type": "stream",
     "text": [
      "/Users/c22105357/Documents/gotham-network-packet-labeller/venv/lib/python3.11/site-packages/sklearn/preprocessing/_label.py:97: DataConversionWarning: A column-vector y was passed when a 1d array was expected. Please change the shape of y to (n_samples, ), for example using ravel().\n",
      "  y = column_or_1d(y, warn=True)\n"
     ]
    },
    {
     "name": "stdout",
     "output_type": "stream",
     "text": [
      "done\n"
     ]
    },
    {
     "name": "stderr",
     "output_type": "stream",
     "text": [
      "/Users/c22105357/Documents/gotham-network-packet-labeller/venv/lib/python3.11/site-packages/sklearn/preprocessing/_label.py:97: DataConversionWarning: A column-vector y was passed when a 1d array was expected. Please change the shape of y to (n_samples, ), for example using ravel().\n",
      "  y = column_or_1d(y, warn=True)\n"
     ]
    },
    {
     "name": "stdout",
     "output_type": "stream",
     "text": [
      "../data/ready/iotsim-combined-cycle-2.csv\n",
      "done\n",
      "../data/ready/iotsim-combined-cycle-tls-2.csv\n"
     ]
    },
    {
     "name": "stderr",
     "output_type": "stream",
     "text": [
      "/Users/c22105357/Documents/gotham-network-packet-labeller/venv/lib/python3.11/site-packages/sklearn/preprocessing/_label.py:97: DataConversionWarning: A column-vector y was passed when a 1d array was expected. Please change the shape of y to (n_samples, ), for example using ravel().\n",
      "  y = column_or_1d(y, warn=True)\n"
     ]
    },
    {
     "name": "stdout",
     "output_type": "stream",
     "text": [
      "done\n",
      "../data/ready/iotsim-predictive-maintenance-10.csv\n"
     ]
    },
    {
     "name": "stderr",
     "output_type": "stream",
     "text": [
      "/Users/c22105357/Documents/gotham-network-packet-labeller/venv/lib/python3.11/site-packages/sklearn/preprocessing/_label.py:97: DataConversionWarning: A column-vector y was passed when a 1d array was expected. Please change the shape of y to (n_samples, ), for example using ravel().\n",
      "  y = column_or_1d(y, warn=True)\n"
     ]
    },
    {
     "name": "stdout",
     "output_type": "stream",
     "text": [
      "done\n"
     ]
    },
    {
     "name": "stderr",
     "output_type": "stream",
     "text": [
      "/Users/c22105357/Documents/gotham-network-packet-labeller/venv/lib/python3.11/site-packages/sklearn/preprocessing/_label.py:97: DataConversionWarning: A column-vector y was passed when a 1d array was expected. Please change the shape of y to (n_samples, ), for example using ravel().\n",
      "  y = column_or_1d(y, warn=True)\n"
     ]
    },
    {
     "name": "stdout",
     "output_type": "stream",
     "text": [
      "../data/ready/iotsim-hydraulic-system-4.csv\n",
      "done\n",
      "../data/ready/iotsim-cooler-motor-7.csv\n"
     ]
    },
    {
     "name": "stderr",
     "output_type": "stream",
     "text": [
      "/Users/c22105357/Documents/gotham-network-packet-labeller/venv/lib/python3.11/site-packages/sklearn/preprocessing/_label.py:97: DataConversionWarning: A column-vector y was passed when a 1d array was expected. Please change the shape of y to (n_samples, ), for example using ravel().\n",
      "  y = column_or_1d(y, warn=True)\n"
     ]
    },
    {
     "name": "stdout",
     "output_type": "stream",
     "text": [
      "done\n"
     ]
    },
    {
     "name": "stderr",
     "output_type": "stream",
     "text": [
      "/Users/c22105357/Documents/gotham-network-packet-labeller/venv/lib/python3.11/site-packages/sklearn/preprocessing/_label.py:97: DataConversionWarning: A column-vector y was passed when a 1d array was expected. Please change the shape of y to (n_samples, ), for example using ravel().\n",
      "  y = column_or_1d(y, warn=True)\n"
     ]
    },
    {
     "name": "stdout",
     "output_type": "stream",
     "text": [
      "../data/ready/iotsim-cooler-motor-6.csv\n",
      "done\n"
     ]
    },
    {
     "name": "stderr",
     "output_type": "stream",
     "text": [
      "/Users/c22105357/Documents/gotham-network-packet-labeller/venv/lib/python3.11/site-packages/sklearn/preprocessing/_label.py:97: DataConversionWarning: A column-vector y was passed when a 1d array was expected. Please change the shape of y to (n_samples, ), for example using ravel().\n",
      "  y = column_or_1d(y, warn=True)\n"
     ]
    },
    {
     "name": "stdout",
     "output_type": "stream",
     "text": [
      "../data/ready/iotsim-hydraulic-system-5.csv\n",
      "done\n",
      "../data/ready/iotsim-predictive-maintenance-11.csv\n"
     ]
    },
    {
     "name": "stderr",
     "output_type": "stream",
     "text": [
      "/Users/c22105357/Documents/gotham-network-packet-labeller/venv/lib/python3.11/site-packages/sklearn/preprocessing/_label.py:97: DataConversionWarning: A column-vector y was passed when a 1d array was expected. Please change the shape of y to (n_samples, ), for example using ravel().\n",
      "  y = column_or_1d(y, warn=True)\n"
     ]
    },
    {
     "name": "stdout",
     "output_type": "stream",
     "text": [
      "done\n"
     ]
    },
    {
     "name": "stderr",
     "output_type": "stream",
     "text": [
      "/Users/c22105357/Documents/gotham-network-packet-labeller/venv/lib/python3.11/site-packages/sklearn/preprocessing/_label.py:97: DataConversionWarning: A column-vector y was passed when a 1d array was expected. Please change the shape of y to (n_samples, ), for example using ravel().\n",
      "  y = column_or_1d(y, warn=True)\n"
     ]
    },
    {
     "name": "stdout",
     "output_type": "stream",
     "text": [
      "../data/ready/iotsim-combined-cycle-tls-3.csv\n",
      "done\n",
      "../data/ready/iotsim-combined-cycle-tls-1.csv\n"
     ]
    },
    {
     "name": "stderr",
     "output_type": "stream",
     "text": [
      "/Users/c22105357/Documents/gotham-network-packet-labeller/venv/lib/python3.11/site-packages/sklearn/preprocessing/_label.py:97: DataConversionWarning: A column-vector y was passed when a 1d array was expected. Please change the shape of y to (n_samples, ), for example using ravel().\n",
      "  y = column_or_1d(y, warn=True)\n"
     ]
    },
    {
     "name": "stdout",
     "output_type": "stream",
     "text": [
      "done\n",
      "../data/ready/iotsim-predictive-maintenance-13.csv\n"
     ]
    },
    {
     "name": "stderr",
     "output_type": "stream",
     "text": [
      "/Users/c22105357/Documents/gotham-network-packet-labeller/venv/lib/python3.11/site-packages/sklearn/preprocessing/_label.py:97: DataConversionWarning: A column-vector y was passed when a 1d array was expected. Please change the shape of y to (n_samples, ), for example using ravel().\n",
      "  y = column_or_1d(y, warn=True)\n"
     ]
    },
    {
     "name": "stdout",
     "output_type": "stream",
     "text": [
      "done\n"
     ]
    },
    {
     "name": "stderr",
     "output_type": "stream",
     "text": [
      "/Users/c22105357/Documents/gotham-network-packet-labeller/venv/lib/python3.11/site-packages/sklearn/preprocessing/_label.py:97: DataConversionWarning: A column-vector y was passed when a 1d array was expected. Please change the shape of y to (n_samples, ), for example using ravel().\n",
      "  y = column_or_1d(y, warn=True)\n"
     ]
    },
    {
     "name": "stdout",
     "output_type": "stream",
     "text": [
      "../data/ready/iotsim-hydraulic-system-7.csv\n",
      "done\n",
      "../data/ready/iotsim-cooler-motor-4.csv\n"
     ]
    },
    {
     "name": "stderr",
     "output_type": "stream",
     "text": [
      "/Users/c22105357/Documents/gotham-network-packet-labeller/venv/lib/python3.11/site-packages/sklearn/preprocessing/_label.py:97: DataConversionWarning: A column-vector y was passed when a 1d array was expected. Please change the shape of y to (n_samples, ), for example using ravel().\n",
      "  y = column_or_1d(y, warn=True)\n"
     ]
    },
    {
     "name": "stdout",
     "output_type": "stream",
     "text": [
      "done\n"
     ]
    },
    {
     "name": "stderr",
     "output_type": "stream",
     "text": [
      "/Users/c22105357/Documents/gotham-network-packet-labeller/venv/lib/python3.11/site-packages/sklearn/preprocessing/_label.py:97: DataConversionWarning: A column-vector y was passed when a 1d array was expected. Please change the shape of y to (n_samples, ), for example using ravel().\n",
      "  y = column_or_1d(y, warn=True)\n"
     ]
    },
    {
     "name": "stdout",
     "output_type": "stream",
     "text": [
      "../data/ready/iotsim-cooler-motor-5.csv\n",
      "done\n"
     ]
    },
    {
     "name": "stderr",
     "output_type": "stream",
     "text": [
      "/Users/c22105357/Documents/gotham-network-packet-labeller/venv/lib/python3.11/site-packages/sklearn/preprocessing/_label.py:97: DataConversionWarning: A column-vector y was passed when a 1d array was expected. Please change the shape of y to (n_samples, ), for example using ravel().\n",
      "  y = column_or_1d(y, warn=True)\n"
     ]
    },
    {
     "name": "stdout",
     "output_type": "stream",
     "text": [
      "../data/ready/iotsim-hydraulic-system-6.csv\n",
      "done\n",
      "../data/ready/iotsim-predictive-maintenance-12.csv\n"
     ]
    },
    {
     "name": "stderr",
     "output_type": "stream",
     "text": [
      "/Users/c22105357/Documents/gotham-network-packet-labeller/venv/lib/python3.11/site-packages/sklearn/preprocessing/_label.py:97: DataConversionWarning: A column-vector y was passed when a 1d array was expected. Please change the shape of y to (n_samples, ), for example using ravel().\n",
      "  y = column_or_1d(y, warn=True)\n"
     ]
    },
    {
     "name": "stdout",
     "output_type": "stream",
     "text": [
      "done\n"
     ]
    },
    {
     "name": "stderr",
     "output_type": "stream",
     "text": [
      "/Users/c22105357/Documents/gotham-network-packet-labeller/venv/lib/python3.11/site-packages/sklearn/preprocessing/_label.py:97: DataConversionWarning: A column-vector y was passed when a 1d array was expected. Please change the shape of y to (n_samples, ), for example using ravel().\n",
      "  y = column_or_1d(y, warn=True)\n"
     ]
    },
    {
     "name": "stdout",
     "output_type": "stream",
     "text": [
      "../data/ready/iotsim-combined-cycle-tls-4.csv\n",
      "done\n",
      "../data/ready/iotsim-hydraulic-system-2.csv\n"
     ]
    },
    {
     "name": "stderr",
     "output_type": "stream",
     "text": [
      "/Users/c22105357/Documents/gotham-network-packet-labeller/venv/lib/python3.11/site-packages/sklearn/preprocessing/_label.py:97: DataConversionWarning: A column-vector y was passed when a 1d array was expected. Please change the shape of y to (n_samples, ), for example using ravel().\n",
      "  y = column_or_1d(y, warn=True)\n"
     ]
    },
    {
     "name": "stdout",
     "output_type": "stream",
     "text": [
      "done\n",
      "../data/ready/iotsim-cooler-motor-1.csv\n"
     ]
    },
    {
     "name": "stderr",
     "output_type": "stream",
     "text": [
      "/Users/c22105357/Documents/gotham-network-packet-labeller/venv/lib/python3.11/site-packages/sklearn/preprocessing/_label.py:97: DataConversionWarning: A column-vector y was passed when a 1d array was expected. Please change the shape of y to (n_samples, ), for example using ravel().\n",
      "  y = column_or_1d(y, warn=True)\n"
     ]
    },
    {
     "name": "stdout",
     "output_type": "stream",
     "text": [
      "done\n"
     ]
    },
    {
     "name": "stderr",
     "output_type": "stream",
     "text": [
      "/Users/c22105357/Documents/gotham-network-packet-labeller/venv/lib/python3.11/site-packages/sklearn/preprocessing/_label.py:97: DataConversionWarning: A column-vector y was passed when a 1d array was expected. Please change the shape of y to (n_samples, ), for example using ravel().\n",
      "  y = column_or_1d(y, warn=True)\n"
     ]
    },
    {
     "name": "stdout",
     "output_type": "stream",
     "text": [
      "../data/ready/iotsim-hydraulic-system-3.csv\n",
      "done\n",
      "../data/ready/iotsim-combined-cycle-tls-5.csv\n"
     ]
    },
    {
     "name": "stderr",
     "output_type": "stream",
     "text": [
      "/Users/c22105357/Documents/gotham-network-packet-labeller/venv/lib/python3.11/site-packages/sklearn/preprocessing/_label.py:97: DataConversionWarning: A column-vector y was passed when a 1d array was expected. Please change the shape of y to (n_samples, ), for example using ravel().\n",
      "  y = column_or_1d(y, warn=True)\n"
     ]
    },
    {
     "name": "stdout",
     "output_type": "stream",
     "text": [
      "done\n",
      "../data/ready/iotsim-hydraulic-system-1.csv\n"
     ]
    },
    {
     "name": "stderr",
     "output_type": "stream",
     "text": [
      "/Users/c22105357/Documents/gotham-network-packet-labeller/venv/lib/python3.11/site-packages/sklearn/preprocessing/_label.py:97: DataConversionWarning: A column-vector y was passed when a 1d array was expected. Please change the shape of y to (n_samples, ), for example using ravel().\n",
      "  y = column_or_1d(y, warn=True)\n"
     ]
    },
    {
     "name": "stdout",
     "output_type": "stream",
     "text": [
      "done\n"
     ]
    },
    {
     "name": "stderr",
     "output_type": "stream",
     "text": [
      "/Users/c22105357/Documents/gotham-network-packet-labeller/venv/lib/python3.11/site-packages/sklearn/preprocessing/_label.py:97: DataConversionWarning: A column-vector y was passed when a 1d array was expected. Please change the shape of y to (n_samples, ), for example using ravel().\n",
      "  y = column_or_1d(y, warn=True)\n"
     ]
    },
    {
     "name": "stdout",
     "output_type": "stream",
     "text": [
      "../data/ready/iotsim-predictive-maintenance-15.csv\n",
      "done\n"
     ]
    },
    {
     "name": "stderr",
     "output_type": "stream",
     "text": [
      "/Users/c22105357/Documents/gotham-network-packet-labeller/venv/lib/python3.11/site-packages/sklearn/preprocessing/_label.py:97: DataConversionWarning: A column-vector y was passed when a 1d array was expected. Please change the shape of y to (n_samples, ), for example using ravel().\n",
      "  y = column_or_1d(y, warn=True)\n"
     ]
    },
    {
     "name": "stdout",
     "output_type": "stream",
     "text": [
      "../data/ready/iotsim-cooler-motor-2.csv\n",
      "done\n"
     ]
    },
    {
     "name": "stderr",
     "output_type": "stream",
     "text": [
      "/Users/c22105357/Documents/gotham-network-packet-labeller/venv/lib/python3.11/site-packages/sklearn/preprocessing/_label.py:97: DataConversionWarning: A column-vector y was passed when a 1d array was expected. Please change the shape of y to (n_samples, ), for example using ravel().\n",
      "  y = column_or_1d(y, warn=True)\n"
     ]
    },
    {
     "name": "stdout",
     "output_type": "stream",
     "text": [
      "../data/ready/iotsim-cooler-motor-3.csv\n",
      "done\n"
     ]
    },
    {
     "name": "stderr",
     "output_type": "stream",
     "text": [
      "/Users/c22105357/Documents/gotham-network-packet-labeller/venv/lib/python3.11/site-packages/sklearn/preprocessing/_label.py:97: DataConversionWarning: A column-vector y was passed when a 1d array was expected. Please change the shape of y to (n_samples, ), for example using ravel().\n",
      "  y = column_or_1d(y, warn=True)\n"
     ]
    },
    {
     "name": "stdout",
     "output_type": "stream",
     "text": [
      "../data/ready/iotsim-predictive-maintenance-14.csv\n",
      "done\n"
     ]
    },
    {
     "name": "stderr",
     "output_type": "stream",
     "text": [
      "/Users/c22105357/Documents/gotham-network-packet-labeller/venv/lib/python3.11/site-packages/sklearn/preprocessing/_label.py:97: DataConversionWarning: A column-vector y was passed when a 1d array was expected. Please change the shape of y to (n_samples, ), for example using ravel().\n",
      "  y = column_or_1d(y, warn=True)\n"
     ]
    },
    {
     "name": "stdout",
     "output_type": "stream",
     "text": [
      "../data/ready/iotsim-city-power-1.csv\n",
      "done\n"
     ]
    },
    {
     "name": "stderr",
     "output_type": "stream",
     "text": [
      "/Users/c22105357/Documents/gotham-network-packet-labeller/venv/lib/python3.11/site-packages/sklearn/preprocessing/_label.py:97: DataConversionWarning: A column-vector y was passed when a 1d array was expected. Please change the shape of y to (n_samples, ), for example using ravel().\n",
      "  y = column_or_1d(y, warn=True)\n"
     ]
    }
   ],
   "source": [
    "import gc\n",
    "\n",
    "filenames = glob.glob(\"../data/ready/*.csv\")\n",
    "\n",
    "for filename in filenames:\n",
    "    \n",
    "    processed_chunks = []\n",
    "    print(filename)\n",
    "    for chunk in pd.read_csv(filename, sep=\",\", low_memory=False, chunksize=10000):\n",
    "        chunk = preprocess(chunk)\n",
    "        processed_chunks.append(chunk)\n",
    "\n",
    "    print(\"done\")\n",
    "    # Concatenate all the chunks into a single DataFrame\n",
    "    df = pd.concat(processed_chunks)\n",
    "\n",
    "    # Custom transformer\n",
    "    flags_transformer = FunctionTransformer(unpack_flags)\n",
    "\n",
    "    labels = df['label']\n",
    "    features = df.drop(labels=['label'], axis=1)\n",
    "\n",
    "    validation_size, testing_size = 0.2, 0.2\n",
    "    X_train, X_test, y_train, y_test = train_test_split(\n",
    "        features,\n",
    "        labels,\n",
    "        test_size=(validation_size + testing_size),\n",
    "        random_state=42,\n",
    "        stratify=labels\n",
    "    )\n",
    "    X_test, X_val, y_test, y_val = train_test_split(\n",
    "        X_test,\n",
    "        y_test,\n",
    "        test_size=testing_size / (validation_size + testing_size),\n",
    "        random_state=42\n",
    "    )\n",
    "\n",
    "    categorical_features = features.select_dtypes(exclude=[\"number\"]).columns\n",
    "    numeric_features = features.select_dtypes(exclude=[object]).columns\n",
    "\n",
    "    preprocessor = ColumnTransformer(transformers=[\n",
    "        ('flags', flags_transformer, ['ip.flags', 'tcp.flags']),\n",
    "        ('categoricals', OneHotEncoder(drop='first', sparse_output=True, handle_unknown='error'), ['ip.protocol', 'src.port', 'dst.port']),\n",
    "        ('numericals', StandardScaler(), numeric_features)\n",
    "    ])\n",
    "\n",
    "    preprocessor.fit(X_train)\n",
    "    preprocessor['categoricals'].fit(global_categorical_values)\n",
    "\n",
    "    # Preprocess the features\n",
    "    X_train = pd.DataFrame(preprocessor.transform(X_train))\n",
    "    X_val = pd.DataFrame(preprocessor.transform(X_val))\n",
    "    X_test = pd.DataFrame(preprocessor.transform(X_test))\n",
    "\n",
    "    # Preprocess the labels\n",
    "    le = LabelEncoder()\n",
    "    le.fit(pd.DataFrame({\n",
    "        'label': [\"Normal\", \"TCP Scan\", \"UDP Scan\", \"Telnet Brute Force\", \"Reporting\", \"Ingress Tool Transfer\", \"File Download\", \"CoAP Amplification\", \"Merlin TCP Flooding\", \"Merlin UDP Flooding\", \"Merlin ICMP Flooding\", \"Merlin C&C Communication\", \"Mirai TCP Flooding\", \"Mirai UDP Flooding\", \"Mirai GRE Flooding\", \"Mirai C&C Communication\"]\n",
    "    }))\n",
    "\n",
    "    y_train = pd.DataFrame(le.transform(y_train), columns=[\"label\"])\n",
    "    y_val = pd.DataFrame(le.transform(y_val), columns=[\"label\"])\n",
    "    y_test = pd.DataFrame(le.transform(y_test), columns=[\"label\"])\n",
    "\n",
    "    iot_device = filename.rstrip('.csv').split('/')[-1]\n",
    "    \n",
    "    # Save the results\n",
    "    X_train.to_pickle(os.path.join('..', 'data', 'final', f'{iot_device}_train_features.pkl'), compression='gzip')\n",
    "    X_val.to_pickle(os.path.join('..', 'data', 'final', f'{iot_device}_val_features.pkl'), compression='gzip')\n",
    "    X_test.to_pickle(os.path.join('..', 'data', 'final', f'{iot_device}_test_features.pkl'), compression='gzip')\n",
    "\n",
    "    y_train.to_pickle(os.path.join('..', 'data', 'final', f'{iot_device}_train_labels.pkl'), compression='gzip')\n",
    "    y_val.to_pickle(os.path.join('..', 'data', 'final', f'{iot_device}_val_labels.pkl'), compression='gzip')\n",
    "    y_test.to_pickle(os.path.join('..', 'data', 'final', f'{iot_device}_test_labels.pkl'), compression='gzip')\n",
    "\n",
    "    # Free up memory by deleting the DataFrames and forcing garbage collection\n",
    "    del features\n",
    "    del labels\n",
    "    del df\n",
    "    del X_train\n",
    "    del y_train\n",
    "    del X_val\n",
    "    del y_val\n",
    "    del X_test\n",
    "    del y_test\n",
    "    gc.collect()"
   ]
  },
  {
   "cell_type": "code",
   "execution_count": 6,
   "id": "f8c4a661",
   "metadata": {},
   "outputs": [
    {
     "name": "stdout",
     "output_type": "stream",
     "text": [
      "done\n"
     ]
    }
   ],
   "source": [
    "print(\"done\")"
   ]
  },
  {
   "cell_type": "code",
   "execution_count": null,
   "id": "8fcd6a1c",
   "metadata": {},
   "outputs": [],
   "source": [
    "import pandas as pd\n",
    "import numpy as np\n",
    "\n",
    "from sklearn.preprocessing import OneHotEncoder, LabelEncoder, StandardScaler\n",
    "from sklearn.model_selection import train_test_split\n",
    "from sklearn.compose import ColumnTransformer\n",
    "\n",
    "\n",
    "class GothamDatasetPreprocessor(object):\n",
    "\n",
    "    def __init__(self, data, training_size, validation_size, testing_size, num_replacement=-1, cat_replacement = \"unknown\"):\n",
    "        self.data = data\n",
    "        self.training_size = training_size\n",
    "        self.validation_size = validation_size\n",
    "        self.testing_size = testing_size\n",
    "        \n",
    "        self.features = None\n",
    "        self.label = None\n",
    "        self.num_replacement = num_replacement\n",
    "        self.cat_replacement = cat_replacement\n",
    "    \n",
    "    def remove_columns(self):\n",
    "        \"\"\"\"\"\"\n",
    "        # Columns to drop\n",
    "        columns_to_drop = ['frame.protocols', 'eth.src', 'eth.dst', 'ip.dst', 'ip.src', 'ip.len', 'tcp.len', 'udp.length']\n",
    "\n",
    "        # Remove duplicate rows\n",
    "        self.data.drop(axis=1, columns=columns_to_drop, inplace=True)\n",
    "\n",
    "    def remove_duplicate_values(self):\n",
    "        \"\"\"\"\"\"\n",
    "        # Remove duplicate rows\n",
    "        self.data.drop_duplicates(inplace=True, keep=False, ignore_index=True)\n",
    "\n",
    "    def remove_missing_values(self):\n",
    "        \"\"\"\"\"\"\n",
    "        # Remove missing values\n",
    "        self.data.dropna(axis=0, inplace=True, how=\"any\")\n",
    "\n",
    "    def remove_infinite_values(self):\n",
    "        \"\"\"\"\"\"\n",
    "        # Replace infinite values to NaN\n",
    "        self.data.replace([-np.inf, np.inf], np.nan, inplace=True)\n",
    "\n",
    "        # Remove infinte values\n",
    "        self.data.dropna(axis=0, how='any', inplace=True)\n",
    "\n",
    "    def clean_protocol_and_ports(self):\n",
    "        \"\"\"\"\"\"\n",
    "        src_ports, dst_ports, protocols = [], [], []\n",
    "        for idx, pkt in self.data.iterrows():\n",
    "            if ':tcp' in pkt['frame.protocols']:\n",
    "                protocol = 'TCP'\n",
    "                src_port = int(pkt['tcp.srcport'])\n",
    "                dst_port = int(pkt['tcp.dstport'])\n",
    "            elif ':udp' in pkt['frame.protocols']:\n",
    "                protocol = 'UDP'\n",
    "                src_port = int(pkt['udp.srcport'])\n",
    "                dst_port = int(pkt['udp.dstport'])\n",
    "            elif ':icmp' in pkt['frame.protocols']:\n",
    "                protocol = 'ICMP'\n",
    "                src_port = np.nan\n",
    "                dst_port = np.nan\n",
    "            \n",
    "            protocols.append(protocol)\n",
    "            src_ports.append(src_port)\n",
    "            dst_ports.append(dst_port)\n",
    "\n",
    "        self.data['ip.protocol'] = protocols\n",
    "        self.data['src.port'] = src_ports\n",
    "        self.data['dst.port'] = dst_ports\n",
    "\n",
    "        self.data.drop(columns=['ip.proto', 'tcp.srcport', 'tcp.dstport', 'udp.srcport', 'udp.dstport'], axis=1, inplace=True)\n",
    "\n",
    "\n",
    "    def clean_time_feature(self):\n",
    "        \"\"\"\"\"\"\n",
    "        self.data['frame.time'] = self.data['frame.time'].str.replace('  ', ' ')\n",
    "        self.data['frame.time'] = self.data['frame.time'].str.replace(' BST', '')\n",
    "        self.data['frame.time'] = pd.to_datetime(self.data['frame.time'], format=\"%b %d, %Y %H:%M:%S.%f000\")\n",
    "        self.data['timestamp'] = self.data['frame.time'].values.astype(np.int64) // 10 ** 9\n",
    "\n",
    "\n",
    "    def convert_port_to_categories(self):\n",
    "        def port_to_categories(port_map, port):\n",
    "            \"\"\"Convert port number to category according to port_map.\"\"\"\n",
    "            for p_range, p_name in port_map:\n",
    "                if port in p_range:\n",
    "                    return p_name\n",
    "\n",
    "            return \"\"\n",
    "\n",
    "        df['src.port'] = df['src.port'].apply(lambda port: port_to_categories(port_hierarchy_map_iot, port))\n",
    "        df['dst.port'] = df['dst.port'].apply(lambda port: port_to_categories(port_hierarchy_map_iot, port))\n",
    "    \n",
    "    def replace_missing_values(self):\n",
    "        \"\"\"\n",
    "        Replaces missing values in a DataFrame.\n",
    "        - Numerical columns: Replace with a specified value (default -1).\n",
    "        - Categorical columns: Replace with a specified value (default \"unknown\").\n",
    "\n",
    "        Parameters:\n",
    "            df (pd.DataFrame): Input DataFrame with missing values.\n",
    "\n",
    "        Returns:\n",
    "            pd.DataFrame: DataFrame with missing values replaced.\n",
    "        \"\"\"\n",
    "        num_cols = self.data.select_dtypes(include=[\"number\"]).columns\n",
    "        self.data[num_cols] = self.data[num_cols].fillna(self.num_replacement)\n",
    "\n",
    "        cat_cols = self.data.select_dtypes(include=[\"object\", \"category\"]).columns\n",
    "        self.data[cat_cols] = self.data[cat_cols].fillna(self.cat_replacement)\n",
    "    \n",
    "    def train_valid_test_split(self):\n",
    "        \"\"\".\"\"\"\n",
    "        self.labels = self.data['label']\n",
    "        self.features = self.data.drop(labels=['label'], axis=1)\n",
    "\n",
    "        X_train, X_test, y_train, y_test = train_test_split(\n",
    "            self.features,\n",
    "            self.labels,\n",
    "            test_size=(self.validation_size + self.testing_size),\n",
    "            random_state=42,\n",
    "            stratify=self.labels\n",
    "        )\n",
    "        X_test, X_val, y_test, y_val = train_test_split(\n",
    "            X_test,\n",
    "            y_test,\n",
    "            test_size=self.testing_size / (self.validation_size + self.testing_size),\n",
    "            random_state=42\n",
    "        )\n",
    "    \n",
    "        return (X_train, y_train), (X_val, y_val), (X_test, y_test)\n",
    "    \n",
    "    def scale(self, training_set, validation_set, testing_set):\n",
    "        \"\"\"\"\"\"\n",
    "        (X_train, y_train), (X_val, y_val), (X_test, y_test) = training_set, validation_set, testing_set\n",
    "        \n",
    "        categorical_features = self.features.select_dtypes(exclude=[\"number\"]).columns\n",
    "        numeric_features = self.features.select_dtypes(exclude=[object]).columns\n",
    "\n",
    "        preprocessor = ColumnTransformer(transformers=[\n",
    "            ('categoricals', OneHotEncoder(drop='first', sparse_output=False, handle_unknown='error'), categorical_features),\n",
    "            ('numericals', StandardScaler(), numeric_features)\n",
    "        ])\n",
    "\n",
    "        # Preprocess the features\n",
    "        columns = numeric_features.tolist()\n",
    "\n",
    "        X_train = pd.DataFrame(preprocessor.fit_transform(X_train), columns=columns, index=X_train.index)\n",
    "        X_val = pd.DataFrame(preprocessor.transform(X_val), columns=columns, index=X_val.index)\n",
    "        X_test = pd.DataFrame(preprocessor.transform(X_test), columns=columns, index=X_test.index)\n",
    "\n",
    "        # Preprocess the labels\n",
    "        le = LabelEncoder()\n",
    "\n",
    "        y_train = pd.DataFrame(le.fit_transform(y_train), columns=[\"label\"])\n",
    "        y_val = pd.DataFrame(le.transform(y_val), columns=[\"label\"])\n",
    "        y_test = pd.DataFrame(le.transform(y_test), columns=[\"label\"])\n",
    "\n",
    "        return (X_train, y_train), (X_val, y_val), (X_test, y_test)"
   ]
  },
  {
   "cell_type": "code",
   "execution_count": 152,
   "id": "7d1ef18f",
   "metadata": {},
   "outputs": [],
   "source": [
    "import pandas as pd\n",
    "import numpy as np\n",
    "\n",
    "from sklearn.preprocessing import OneHotEncoder, LabelEncoder, StandardScaler\n",
    "from sklearn.model_selection import train_test_split\n",
    "from sklearn.compose import ColumnTransformer\n",
    "\n",
    "\n",
    "class GothamDatasetPreprocessor(object):\n",
    "\n",
    "    def __init__(self, data, training_size, validation_size, testing_size, num_replacement=-1, cat_replacement = \"unknown\"):\n",
    "        self.data = data\n",
    "        self.training_size = training_size\n",
    "        self.validation_size = validation_size\n",
    "        self.testing_size = testing_size\n",
    "        \n",
    "        self.features = None\n",
    "        self.label = None\n",
    "        self.num_replacement = num_replacement\n",
    "        self.cat_replacement = cat_replacement\n",
    "    \n",
    "    def remove_columns(self):\n",
    "        \"\"\"\"\"\"\n",
    "        # Columns to drop\n",
    "        columns_to_drop = ['frame.protocols', 'eth.src', 'eth.dst', 'ip.dst', 'ip.src']\n",
    "\n",
    "        # Remove duplicate rows\n",
    "        self.data.drop(axis=1, columns=columns_to_drop, inplace=True)\n",
    "\n",
    "    def remove_duplicate_values(self):\n",
    "        \"\"\"\"\"\"\n",
    "        # Remove duplicate rows\n",
    "        self.data.drop_duplicates(inplace=True, keep=False, ignore_index=True)\n",
    "\n",
    "    def remove_missing_values(self):\n",
    "        \"\"\"\"\"\"\n",
    "        # Remove missing values\n",
    "        self.data.dropna(axis=0, inplace=True, how=\"any\")\n",
    "\n",
    "    def remove_infinite_values(self):\n",
    "        \"\"\"\"\"\"\n",
    "        # Replace infinite values to NaN\n",
    "        self.data.replace([-np.inf, np.inf], np.nan, inplace=True)\n",
    "\n",
    "        # Remove infinte values\n",
    "        self.data.dropna(axis=0, how='any', inplace=True)\n",
    "\n",
    "    def remove_constant_features(self, threshold=0.01):\n",
    "        \"\"\"\"\"\"\n",
    "        # Standard deviation denoted by sigma (σ) is the average of the squared root differences from the mean.\n",
    "        data_std = self.data.std(numeric_only=True)\n",
    "\n",
    "        # Find Features that meet the threshold\n",
    "        constant_features = [column for column, std in data_std.items() if std < threshold]\n",
    "\n",
    "        # Drop the constant features\n",
    "        self.data.drop(labels=constant_features, axis=1, inplace=True)\n",
    "\n",
    "    def remove_correlated_features(self, threshold=0.99):\n",
    "        \"\"\"\"\"\"\n",
    "        # Correlation matrix\n",
    "        numerical_df = self.data.select_dtypes(include=[\"number\"])\n",
    "        data_corr = numerical_df.corr()\n",
    "\n",
    "        # Create & Apply mask\n",
    "        mask = np.triu(np.ones_like(data_corr, dtype=bool))\n",
    "        tri_df = data_corr.mask(mask)\n",
    "\n",
    "        # Find Features that meet the threshold\n",
    "        correlated_features = [c for c in tri_df.columns if any(tri_df[c] > threshold)]\n",
    "\n",
    "        # Drop the highly correlated features\n",
    "        self.data.drop(labels=correlated_features, axis=1, inplace=True)\n",
    "\n",
    "    def replace_missing_values(self):\n",
    "        \"\"\"\n",
    "        Replaces missing values in a DataFrame.\n",
    "        - Numerical columns: Replace with a specified value (default -1).\n",
    "        - Categorical columns: Replace with a specified value (default \"unknown\").\n",
    "\n",
    "        Parameters:\n",
    "            df (pd.DataFrame): Input DataFrame with missing values.\n",
    "\n",
    "        Returns:\n",
    "            pd.DataFrame: DataFrame with missing values replaced.\n",
    "        \"\"\"\n",
    "        num_cols = self.data.select_dtypes(include=[\"number\"]).columns\n",
    "        self.data[num_cols] = self.data[num_cols].fillna(self.num_replacement)\n",
    "\n",
    "        cat_cols = self.data.select_dtypes(include=[\"object\", \"category\"]).columns\n",
    "        self.data[cat_cols] = self.data[cat_cols].fillna(self.cat_replacement)\n",
    "    \n",
    "    def train_valid_test_split(self):\n",
    "        \"\"\".\"\"\"\n",
    "        self.labels = self.data['label']\n",
    "        self.features = self.data.drop(labels=['label'], axis=1)\n",
    "\n",
    "        X_train, X_test, y_train, y_test = train_test_split(\n",
    "            self.features,\n",
    "            self.labels,\n",
    "            test_size=(self.validation_size + self.testing_size),\n",
    "            random_state=42,\n",
    "            stratify=self.labels\n",
    "        )\n",
    "        X_test, X_val, y_test, y_val = train_test_split(\n",
    "            X_test,\n",
    "            y_test,\n",
    "            test_size=self.testing_size / (self.validation_size + self.testing_size),\n",
    "            random_state=42\n",
    "        )\n",
    "    \n",
    "        return (X_train, y_train), (X_val, y_val), (X_test, y_test)\n",
    "    \n",
    "    def scale(self, training_set, validation_set, testing_set):\n",
    "        \"\"\"\"\"\"\n",
    "        (X_train, y_train), (X_val, y_val), (X_test, y_test) = training_set, validation_set, testing_set\n",
    "        \n",
    "        categorical_features = self.features.select_dtypes(exclude=[\"number\"]).columns\n",
    "        numeric_features = self.features.select_dtypes(exclude=[object]).columns\n",
    "\n",
    "        preprocessor = ColumnTransformer(transformers=[\n",
    "            ('categoricals', OneHotEncoder(drop='first', sparse_output=False, handle_unknown='error'), categorical_features),\n",
    "            ('numericals', StandardScaler(), numeric_features)\n",
    "        ])\n",
    "\n",
    "        # Preprocess the features\n",
    "        columns = numeric_features.tolist()\n",
    "\n",
    "        X_train = pd.DataFrame(preprocessor.fit_transform(X_train), columns=columns, index=X_train.index)\n",
    "        X_val = pd.DataFrame(preprocessor.transform(X_val), columns=columns, index=X_val.index)\n",
    "        X_test = pd.DataFrame(preprocessor.transform(X_test), columns=columns, index=X_test.index)\n",
    "\n",
    "        # Preprocess the labels\n",
    "        le = LabelEncoder()\n",
    "\n",
    "        y_train = pd.DataFrame(le.fit_transform(y_train), columns=[\"label\"])\n",
    "        y_val = pd.DataFrame(le.transform(y_val), columns=[\"label\"])\n",
    "        y_test = pd.DataFrame(le.transform(y_test), columns=[\"label\"])\n",
    "\n",
    "        return (X_train, y_train), (X_val, y_val), (X_test, y_test)"
   ]
  }
 ],
 "metadata": {
  "kernelspec": {
   "display_name": "venv",
   "language": "python",
   "name": "python3"
  },
  "language_info": {
   "codemirror_mode": {
    "name": "ipython",
    "version": 3
   },
   "file_extension": ".py",
   "mimetype": "text/x-python",
   "name": "python",
   "nbconvert_exporter": "python",
   "pygments_lexer": "ipython3",
   "version": "3.11.2"
  }
 },
 "nbformat": 4,
 "nbformat_minor": 5
}
